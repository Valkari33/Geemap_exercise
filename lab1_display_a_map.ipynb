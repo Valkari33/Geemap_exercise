import leafmap

# Creat an interactive map
m = leafmap.Map(center=[20, 0], zoom=2, height='600px')
# Add basemap
m.add_basemap("CartoDB.DarkMatter")
# Add text to the map
text = "David Chew"
m.add_text(text, fontsize=20, position='bottomright')
# Add a logo to the map
logo = 'https://github.com/Valkari33/Geemap_exercise/blob/main/leafmap.png'
m.add_image(logo, position='bottomright')
# Add GeoJSON data to the map
cables = 'https://open.gishub.org/data/vector/cables.geojson'
callback = lambda feat: {"color": feat["properties"]["color"], "weight": 1}
m.add_geojson(cables, layer_name="Cable lines", style_callback=callback)
# Display the map
m
