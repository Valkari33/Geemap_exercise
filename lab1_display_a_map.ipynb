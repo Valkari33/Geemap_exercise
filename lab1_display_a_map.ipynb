{
 "cells": [
  {
   "cell_type": "code",
   "execution_count": null,
   "metadata": {},
   "outputs": [],
   "source": [
    "import leafmap\n",
    "\n",
    "# Creat an interactive map\n",
    "m = leafmap.Map(center=[20, 0], zoom=2, height='600px')\n",
    "# Add basemap\n",
    "m.add_basemap(\"CartoDB.DarkMatter\")\n",
    "# Add text to the map\n",
    "text = \"Made by Your Name\"\n",
    "m.add_text(text, fontsize=20, position='bottomright')\n",
    "# Add a logo to the map\n",
    "logo = 'https://i.imgur.com/at4Qprk.png'\n",
    "m.add_image(logo, position='bottomright')\n",
    "# Add GeoJSON data to the map\n",
    "cables = 'https://open.gishub.org/data/vector/cables.geojson'\n",
    "callback = lambda feat: {\"color\": feat[\"properties\"][\"color\"], \"weight\": 1}\n",
    "m.add_geojson(cables, layer_name=\"Cable lines\", style_callback=callback)\n",
    "# Display the map\n",
    "m"
   ]
  },
  {
   "cell_type": "markdown",
   "metadata": {},
   "source": [
    "![](https://i.imgur.com/ZfZCdhL.png)"
   ]
  }
 ],
 "metadata": {
  "kernelspec": {
   "display_name": "Python 3",
   "language": "python",
   "name": "python3"
  },
  "language_info": {
   "codemirror_mode": {
    "name": "ipython",
    "version": 3
   },
   "file_extension": ".py",
   "mimetype": "text/x-python",
   "name": "python",
   "nbconvert_exporter": "python",
   "pygments_lexer": "ipython3",
   "version": "3.11.6"
  }
 },
 "nbformat": 4,
 "nbformat_minor": 5
}
